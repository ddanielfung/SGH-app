{
 "cells": [
  {
   "cell_type": "code",
   "execution_count": 1,
   "metadata": {},
   "outputs": [
    {
     "name": "stdout",
     "output_type": "stream",
     "text": [
      "<class 'pandas.core.frame.DataFrame'>\n",
      "RangeIndex: 6795 entries, 0 to 6794\n",
      "Data columns (total 20 columns):\n",
      " #   Column   Non-Null Count  Dtype  \n",
      "---  ------   --------------  -----  \n",
      " 0   seqn     6795 non-null   int64  \n",
      " 1   sex      6795 non-null   object \n",
      " 2   age      6795 non-null   float64\n",
      " 3   re       6795 non-null   object \n",
      " 4   income   6475 non-null   object \n",
      " 5   tx       6795 non-null   int64  \n",
      " 6   dx       6795 non-null   int64  \n",
      " 7   wt       6795 non-null   float64\n",
      " 8   ht       6795 non-null   float64\n",
      " 9   bmi      6795 non-null   float64\n",
      " 10  leg      6564 non-null   float64\n",
      " 11  arml     6616 non-null   float64\n",
      " 12  armc     6607 non-null   float64\n",
      " 13  waist    6556 non-null   float64\n",
      " 14  tri      6314 non-null   float64\n",
      " 15  sub      5824 non-null   float64\n",
      " 16  gh       6795 non-null   float64\n",
      " 17  albumin  6706 non-null   float64\n",
      " 18  bun      6706 non-null   float64\n",
      " 19  SCr      6706 non-null   float64\n",
      "dtypes: float64(14), int64(3), object(3)\n",
      "memory usage: 1.0+ MB\n"
     ]
    },
    {
     "data": {
      "text/plain": [
       "diabetes\n",
       "0    6167\n",
       "1     628\n",
       "Name: count, dtype: int64"
      ]
     },
     "execution_count": 1,
     "metadata": {},
     "output_type": "execute_result"
    }
   ],
   "source": [
    "import os\n",
    "import pandas as pd\n",
    "\n",
    "# Importing dataset\n",
    "DATA_PATH = os.path.join(\"data\", \"nhgh.tsv\")\n",
    "gh_data = pd.read_csv(DATA_PATH, sep='\\t')\n",
    "gh_data.info()\n",
    "\n",
    "# Setting of target variable\n",
    "DIABETES_THRESH = 6.5 # diabetes threshold in %, diabetes is defined as gh >= DIABETES THRESH\n",
    "gh_data[\"diabetes\"] = [1 if x >= DIABETES_THRESH else 0 for x in gh_data[\"gh\"]]\n",
    "gh_data[\"diabetes\"].value_counts()\n"
   ]
  },
  {
   "cell_type": "code",
   "execution_count": 4,
   "metadata": {},
   "outputs": [
    {
     "name": "stdout",
     "output_type": "stream",
     "text": [
      "Database created successfully.\n"
     ]
    }
   ],
   "source": [
    "# Setting up model SQL server\n",
    "import sqlite3\n",
    "\n",
    "# # Define the data dictionary\n",
    "# data_dictionary = {}\n",
    "#     \"seqn\":(\"Respondent sequence number\", \"\", \"\", \"integer\", \"integer\", 0),\n",
    "#     \"sex\":( \"\", \"\", 2, \"\", \"integer\", 0),\n",
    "#     \"age\":( \"Age\", \"years\", \"\", \"numeric\", \"double\", 0),\n",
    "#     \"re\":( \"Race/Ethnicity\", \"\", 5, \"\", \"integer\", 0),\n",
    "#     \"income\":( \"Family Income\", \"\", 14, \"\", \"integer\", 320),\n",
    "#     \"tx\":( \"On Insulin or Diabetes Meds\", \"\", \"\", \"integer\", \"integer\", 0),\n",
    "#     \"dx\":( \"Diagnosed with DM or Pre-DM\", \"\", \"\", \"integer\", \"integer\", 0),\n",
    "#     \"wt\":( \"Weight\", \"kg\", \"\", \"numeric\", \"double\", 0),\n",
    "#     \"ht\":( \"Standing Height\", \"cm\", \"\", \"numeric\", \"double\", 0),\n",
    "#     \"bmi\":( \"Body Mass Index\", \"kg/m^2\", \"\", \"numeric\", \"double\", 0),\n",
    "#     \"leg\":( \"Upper Leg Length\", \"cm\", \"\", \"numeric\", \"double\", 231),\n",
    "#     \"arml\":( \"Upper Arm Length\", \"cm\", \"\", \"numeric\", \"double\", 179),\n",
    "#     \"armc\":( \"Arm Circumference\", \"cm\", \"\", \"numeric\", \"double\", 188),\n",
    "#     \"waist\":( \"Waist Circumference\", \"cm\", \"\", \"numeric\", \"double\", 239),\n",
    "#     \"tri\":( \"Triceps Skinfold\", \"mm\", \"\", \"numeric\", \"double\", 481),\n",
    "#     \"sub\":( \"Subscapular Skinfold\", \"mm\", \"\", \"numeric\", \"double\", 971),\n",
    "#     \"gh\":( \"Glycohemoglobin\", \"%\", \"\", \"numeric\", \"double\", 0),\n",
    "#     \"albumin\":( \"Albumin\", \"g/dL\", \"\", \"numeric\", \"double\", 89),\n",
    "#     \"bun\":( \"Blood urea nitrogen\", \"mg/dL\", \"\", \"integer\", \"integer\", 89),\n",
    "#     \"SCr\":( \"Creatinine\", \"mg/dL\", \"\", \"numeric\", \"double\", 89)\n",
    "# ]\n",
    "\n",
    "# Create a SQLite3 database and a cursor object\n",
    "conn = sqlite3.connect('gh_data.db')\n",
    "cursor = conn.cursor()\n",
    "\n",
    "# Create the tables\n",
    "patient_bg = [\"seqn\", \"sex\", \"age\", \"re\", \"income\"]\n",
    "gh_data[patient_bg].to_sql('Patient_bg', conn, index=False)\n",
    "\n",
    "# patient_medical_hist = [\"seqn\", \"tx\", \"dx\", \"diabetes\"]\n",
    "# gh_data[patient_bg].to_sql('patient_bg', conn, index=False)\n",
    "\n",
    "# patient_body_measurements = [\"seqn\", \"wt\", \"ht\", \"bmi\", \"leg\", \"arml\", \"armc\", \"waist\", \"tri\", \"sub\"]\n",
    "# patient_blood_test_results = [\"seqn\", \"gh\", \"albumin\", \"bun\", \"SCr\"]\n",
    "\n",
    "\n",
    "\n",
    "# cursor.execute('''CREATE TABLE data (\n",
    "#                     id INTEGER PRIMARY KEY,\n",
    "#                     Name TEXT,\n",
    "#                     Labels TEXT,\n",
    "#                     Units TEXT,\n",
    "#                     Levels INTEGER,\n",
    "#                     Class TEXT,\n",
    "#                     Storage TEXT,\n",
    "#                     NAs INTEGER\n",
    "#                 )''')\n",
    "\n",
    "# # Insert data into the table\n",
    "# for field in data_dictionary:\n",
    "#     cursor.execute('INSERT INTO data (Name, Labels, Units, Levels, Class, Storage, NAs) VALUES (?, ?, ?, ?, ?, ?, ?)', field)\n",
    "\n",
    "conn\n",
    "\n",
    "sql = \"SELECT * FROM Patient_bg\"\n",
    "        cursor.execute(sql)\n",
    "print(cursor.fetchall())\n",
    "\n",
    "# Commit changes and close connection\n",
    "conn.commit()\n",
    "conn.close()\n",
    "\n",
    "print(\"Database created successfully.\")\n"
   ]
  },
  {
   "cell_type": "code",
   "execution_count": null,
   "metadata": {},
   "outputs": [],
   "source": []
  }
 ],
 "metadata": {
  "kernelspec": {
   "display_name": ".venv",
   "language": "python",
   "name": "python3"
  },
  "language_info": {
   "codemirror_mode": {
    "name": "ipython",
    "version": 3
   },
   "file_extension": ".py",
   "mimetype": "text/x-python",
   "name": "python",
   "nbconvert_exporter": "python",
   "pygments_lexer": "ipython3",
   "version": "3.9.13"
  }
 },
 "nbformat": 4,
 "nbformat_minor": 2
}
